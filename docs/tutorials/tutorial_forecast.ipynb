{
 "cells": [
  {
   "cell_type": "code",
   "execution_count": 3,
   "metadata": {},
   "outputs": [],
   "source": [
    "import sys\n",
    "sys.path.append('../../')\n",
    "import karman\n",
    "import pandas as pd\n",
    "import torch\n",
    "import numpy as np\n",
    "import random\n",
    "from torch.utils.data import RandomSampler, SequentialSampler\n",
    "import pickle as pk\n",
    "import matplotlib.pyplot as plt\n",
    "import cartopy.crs as ccrs\n",
    "import math\n",
    "from sklearn.preprocessing import QuantileTransformer\n",
    "\n",
    "torch.set_default_dtype(torch.float32)\n"
   ]
  },
  {
   "cell_type": "code",
   "execution_count": 4,
   "metadata": {},
   "outputs": [],
   "source": [
    "#here we set a few things, like the lag in minutes and the resolution of the data\n",
    "lag_minutes=10000\n",
    "resolution_minutes=100\n",
    "features_to_exclude_thermo=[\"all__dates_datetime__\", \"tudelft_thermo__satellite__\", \"tudelft_thermo__ground_truth_thermospheric_density__[kg/m**3]\", \"all__year__[y]\", \"NRLMSISE00__thermospheric_density__[kg/m**3]\"]\n",
    "features_to_exclude_thermo+='celestrack__ap_average__,JB08__d_st_dt__[K],space_environment_technologies__f107_obs__,space_environment_technologies__f107_average__,space_environment_technologies__s107_obs__,space_environment_technologies__s107_average__,space_environment_technologies__m107_obs__,space_environment_technologies__m107_average__,space_environment_technologies__y107_obs__,space_environment_technologies__y107_average__'.split(',')"
   ]
  },
  {
   "cell_type": "code",
   "execution_count": 5,
   "metadata": {},
   "outputs": [],
   "source": [
    "data_path={\"omni_indices\":'../../data/omniweb_data/merged_omni_indices.csv', \n",
    "           \"omni_solar_wind\":'../../data/omniweb_data/merged_omni_solar_wind.csv', \n",
    "           \"omni_magnetic_field\":'../../data/omniweb_data/merged_omni_magnetic_field.csv',\n",
    "           \"soho\":'../../data/soho_data/soho_data.csv',\n",
    "           \"msise\":'../../data/nrlmsise00_data/nrlmsise00_time_series.csv'}"
   ]
  },
  {
   "cell_type": "code",
   "execution_count": 6,
   "metadata": {},
   "outputs": [],
   "source": [
    "resolution_minutes=100\n",
    "try:\n",
    "    with open(\"ts_data_normalized.pk\", \"rb\") as f:\n",
    "        ts_data_normalized = pk.load(f)\n",
    "except:\n",
    "    print(\"Creating time series data normalized, note that this can take a couple of minutes. We recommend to store it as a pickle file for next times to spare this time.\")\n",
    "    ts_data_normalized = karman.util.normalize_time_series_data(resolution=resolution_minutes,\n",
    "                                                                 data_path=data_path)\n",
    "    #with open(\"ts_data_normalized.pk\", \"wb\") as f:\n",
    "    #    pk.dump(ts_data_normalized, f)\n",
    "\n",
    "#let's pickle it:\n",
    "#with open(\"ts_data_normalized.pk\", \"wb\") as f:\n",
    "#    pk.dump(ts_data_normalized, f)\n",
    "#let's load from pickle to make things faster:\n",
    "#with open(\"ts_data_normalized.pk\", \"rb\") as f:\n",
    "#    ts_data_normalized = pk.load(f)\n"
   ]
  },
  {
   "cell_type": "code",
   "execution_count": 7,
   "metadata": {},
   "outputs": [],
   "source": [
    "import numpy as np\n",
    "# We build the model entries:\n",
    "n_grid=50\n",
    "u, v = np.linspace(0, 1, n_grid), np.linspace(0, 1, n_grid)\n",
    "longitude, latitude = np.sort(2 * np.pi * u), np.sort(np.arccos(2 * v - 1) - np.pi / 2)\n",
    "lonlat_grid = np.stack([*np.meshgrid(longitude, latitude, indexing=\"ij\")], axis=2).reshape(-1, 2) \n",
    "lonlat_grid[:,0]-=np.pi"
   ]
  },
  {
   "cell_type": "code",
   "execution_count": 8,
   "metadata": {},
   "outputs": [],
   "source": [
    "#let's prepare the inputs to the model and run it:\n",
    "longitudes=list(np.rad2deg(lonlat_grid[:,0],dtype=np.float32))\n",
    "latitudes=list(np.rad2deg(lonlat_grid[:,1],dtype=np.float32))\n",
    "n_samples=len(longitudes)\n",
    "altitudes=[300000.]*n_samples#250km in meters\n",
    "dates=['2024-05-31 23:00:00']*n_samples"
   ]
  },
  {
   "cell_type": "code",
   "execution_count": 9,
   "metadata": {},
   "outputs": [],
   "source": [
    "forecasting_model=karman.density_models.ForecastingModel(state_size=32,attention_heads=5)"
   ]
  },
  {
   "cell_type": "code",
   "execution_count": 11,
   "metadata": {},
   "outputs": [
    {
     "name": "stdout",
     "output_type": "stream",
     "text": [
      "number of parameters: 289457\n",
      "Loaded model with 289457 parameters\n"
     ]
    },
    {
     "name": "stderr",
     "output_type": "stream",
     "text": [
      "/home/ga00693/karman/docs/tutorials/../../karman/density_models.py:149: FutureWarning: You are using `torch.load` with `weights_only=False` (the current default value), which uses the default pickle module implicitly. It is possible to construct malicious pickle data which will execute arbitrary code during unpickling (See https://github.com/pytorch/pytorch/blob/main/SECURITY.md#untrusted-models for more details). In a future release, the default value for `weights_only` will be flipped to `True`. This limits the functions that could be executed during unpickling. Arbitrary objects will no longer be allowed to be loaded via this mode unless they are explicitly allowlisted by the user via `torch.serialization.add_safe_globals`. We recommend you start setting `weights_only=True` for any use case where you don't have full control of the loaded file. Please open an issue on GitHub for any issues related to this experimental feature.\n",
      "  ts_karman_model.load_state_dict(torch.load(model_path,map_location=torch.device(device)))\n"
     ]
    }
   ],
   "source": [
    "model_path_ts='../../models/ts_karman_model_tft_ss32_heads5_lag10000_resolution100_valid_mape_15.906_params_289457.torch'\n",
    "forecasting_model.load_model(model_path=model_path_ts,device='cpu')"
   ]
  },
  {
   "cell_type": "code",
   "execution_count": 12,
   "metadata": {},
   "outputs": [],
   "source": [
    "density_nn=forecasting_model(dates=dates, \n",
    "                             altitudes=altitudes,\n",
    "                             longitudes=longitudes,\n",
    "                             latitudes=latitudes,\n",
    "                             device=torch.device('cpu'),\n",
    "                             ts_data_normalized=ts_data_normalized,\n",
    "                             )"
   ]
  },
  {
   "cell_type": "code",
   "execution_count": 13,
   "metadata": {},
   "outputs": [],
   "source": [
    "#let's extract the SW inputs to compute NRLMSISE-00:\n",
    "sw_df=karman.util.find_sw_from_thermo(pd.to_datetime(dates),karman.density_models.df_sw)\n",
    "ap=sw_df['celestrack__ap_average__'].values\n",
    "f107=sw_df['space_environment_technologies__f107_obs__'].values\n",
    "f107A=sw_df['space_environment_technologies__f107_average__'].values"
   ]
  },
  {
   "cell_type": "code",
   "execution_count": 14,
   "metadata": {},
   "outputs": [],
   "source": [
    "from nrlmsise00 import msise_flat\n",
    "d=pd.to_datetime(dates)\n",
    "density_nrlmsise00=msise_flat(d.to_pydatetime(), np.array(altitudes)*1e-3, latitudes, longitudes, f107A, f107, ap)[:,5]*1e3"
   ]
  },
  {
   "cell_type": "code",
   "execution_count": 15,
   "metadata": {},
   "outputs": [],
   "source": [
    "# we setup the longitude x latitude grid, and compute the relative error (in %)\n",
    "lon_grid = np.rad2deg(lonlat_grid[:, 0].reshape((n_grid, n_grid)))\n",
    "lat_grid = np.rad2deg(lonlat_grid[:, 1].reshape((n_grid, n_grid)))\n",
    "#rel_err = ((density_nrlmsise00 - density_nn) / density_nn) * 100\n",
    "# we print to scree the mean absolute percentage error on the globe map:\n",
    "#print(\n",
    "#    f\"Average absolute relative percentage error on globe map: {abs(rel_err).mean()} %\"\n",
    "#)\n",
    "\n",
    "# we now create a figure with a globe projection on top:\n",
    "fig, ax = plt.subplots(\n",
    "    figsize=(18, 12),\n",
    "    nrows=1,\n",
    "    ncols=2,\n",
    "    subplot_kw={\"projection\": ccrs.Mollweide(central_longitude=0)},\n",
    ")\n",
    "# we flatten the axis and remove the last figure\n",
    "ax = ax.ravel()\n",
    "ax[-1].axis(\"off\")\n",
    "\n",
    "# we plot NRLMSISE-00 on the first figure:\n",
    "ax[0].pcolormesh(\n",
    "    lon_grid,\n",
    "    lat_grid,\n",
    "    density_nrlmsise00.reshape((n_grid, n_grid)),\n",
    "    transform=ccrs.PlateCarree(),\n",
    "    vmin=min(density_nrlmsise00),\n",
    "    vmax=max(density_nrlmsise00),\n",
    ")\n",
    "ax[0].set_global()\n",
    "ax[0].coastlines()\n",
    "# ax[0].gridlines()\n",
    "ax[0].set_title(\"NRLMSISE-00 Prediction\")\n",
    "\n",
    "# the NN prediction on the second:\n",
    "im2 = ax[1].pcolormesh(\n",
    "    lon_grid,\n",
    "    lat_grid,\n",
    "    density_nn.reshape((n_grid, n_grid)),\n",
    "    transform=ccrs.PlateCarree(),\n",
    "    vmin=min(density_nn),\n",
    "    vmax=max(density_nn),\n",
    ")\n",
    "ax[1].set_global()\n",
    "ax[1].coastlines()\n",
    "# ax[1].gridlines()\n",
    "ax[1].set_title(\"Karman Forecasting Prediction\")\n",
    "plt.show()\n",
    "# we add a shared colorbar for the first two figures:\n",
    "#cax1 = fig.add_axes([0.93, 0.6, 0.02, 0.2])  # [left, bottom, width, height]\n",
    "#cbar1 = plt.colorbar(im2, orientation=\"vertical\", fraction=0.035, cax=cax1)\n",
    "#cbar1.set_label(\"Thermospheric Density [kg/m$^3$]\")\n",
    "\n",
    "# we finally plot the relative error in the second row\n",
    "#im3 = ax[2].pcolormesh(\n",
    "#    lon_grid,\n",
    "#    lat_grid,\n",
    "#    rel_err.reshape((n_grid, n_grid)),\n",
    "#    transform=ccrs.PlateCarree(),\n",
    "#    cmap=\"inferno\",\n",
    "#)\n",
    "#ax[2].set_global()\n",
    "#ax[2].coastlines()\n",
    "\n",
    "# and we add the colorbar for that:\n",
    "#cax2 = fig.add_axes([0.51, 0.1, 0.02, 0.3])  # [left, bottom, width, height]\n",
    "#cbar1 = plt.colorbar(im3, orientation=\"vertical\", fraction=0.035, cax=cax2)\n",
    "#cbar1.set_label(\"Relative Error [%]\")"
   ]
  }
 ],
 "metadata": {
  "kernelspec": {
   "display_name": "karman_hl_2024",
   "language": "python",
   "name": "python3"
  },
  "language_info": {
   "codemirror_mode": {
    "name": "ipython",
    "version": 3
   },
   "file_extension": ".py",
   "mimetype": "text/x-python",
   "name": "python",
   "nbconvert_exporter": "python",
   "pygments_lexer": "ipython3",
   "version": "3.12.0"
  }
 },
 "nbformat": 4,
 "nbformat_minor": 2
}
