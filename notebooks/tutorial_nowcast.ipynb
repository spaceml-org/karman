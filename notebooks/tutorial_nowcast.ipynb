{
 "cells": [
  {
   "cell_type": "code",
   "execution_count": 1,
   "metadata": {},
   "outputs": [],
   "source": [
    "import sys\n",
    "sys.path.append('../')\n",
    "import karman\n",
    "import pandas as pd\n",
    "import torch\n",
    "import datetime\n",
    "import numpy as np\n",
    "import pickle as pk\n",
    "import matplotlib.pyplot as plt\n",
    "import cartopy.crs as ccrs\n",
    "\n",
    "torch.set_default_dtype(torch.float32)\n"
   ]
  },
  {
   "cell_type": "code",
   "execution_count": 2,
   "metadata": {},
   "outputs": [],
   "source": [
    "#input features to the model\n",
    "num_features=18"
   ]
  },
  {
   "cell_type": "code",
   "execution_count": 3,
   "metadata": {},
   "outputs": [
    {
     "name": "stdout",
     "output_type": "stream",
     "text": [
      "Loaded model with 35585 parameters\n"
     ]
    },
    {
     "name": "stderr",
     "output_type": "stream",
     "text": [
      "/home/ga00693/karman/notebooks/../karman/density_models.py:220: FutureWarning: You are using `torch.load` with `weights_only=False` (the current default value), which uses the default pickle module implicitly. It is possible to construct malicious pickle data which will execute arbitrary code during unpickling (See https://github.com/pytorch/pytorch/blob/main/SECURITY.md#untrusted-models for more details). In a future release, the default value for `weights_only` will be flipped to `True`. This limits the functions that could be executed during unpickling. Arbitrary objects will no longer be allowed to be loaded via this mode unless they are explicitly allowlisted by the user via `torch.serialization.add_safe_globals`. We recommend you start setting `weights_only=True` for any use case where you don't have full control of the loaded file. Please open an issue on GitHub for any issues related to this experimental feature.\n",
      "  karman_model.load_state_dict(torch.load(model_path))\n"
     ]
    }
   ],
   "source": [
    "nowcasting_model=karman.density_models.NowcastingModel(num_instantaneous_features=18,\n",
    "                                                        hidden_layer_dims=128,\n",
    "                                                        hidden_layers=3)\n",
    "\n",
    "nowcasting_model.load_model(model_path='../models/karman_nowcast_model_log_exp_residual_valid_mape_15.14_params_35585.torch')"
   ]
  },
  {
   "cell_type": "code",
   "execution_count": 4,
   "metadata": {},
   "outputs": [],
   "source": [
    "n_grid=100\n",
    "u, v = np.linspace(0, 1, n_grid), np.linspace(0, 1, n_grid)\n",
    "longitude, latitude = np.sort(2 * np.pi * u), np.sort(np.arccos(2 * v - 1) - np.pi / 2)\n",
    "lonlat_grid = np.stack([*np.meshgrid(longitude, latitude, indexing=\"ij\")], axis=2).reshape(-1, 2) \n",
    "lonlat_grid[:,0]-=np.pi"
   ]
  },
  {
   "cell_type": "code",
   "execution_count": 5,
   "metadata": {},
   "outputs": [],
   "source": [
    "#let's prepare the inputs to the model and run it:\n",
    "longitudes=list(np.rad2deg(lonlat_grid[:,0],dtype=np.float32))\n",
    "latitudes=list(np.rad2deg(lonlat_grid[:,1],dtype=np.float32))\n",
    "n_samples=len(longitudes)\n",
    "altitudes=[450000.]*n_samples#250km in meters\n",
    "dates=['2022-05-08 00:59:47']*n_samples"
   ]
  },
  {
   "cell_type": "code",
   "execution_count": 6,
   "metadata": {},
   "outputs": [],
   "source": [
    "density_nn = nowcasting_model(dates=dates,\n",
    "                              altitudes=altitudes,\n",
    "                              longitudes=longitudes,\n",
    "                              latitudes=latitudes,\n",
    "                              device=torch.device('cpu'))\n"
   ]
  },
  {
   "cell_type": "code",
   "execution_count": 7,
   "metadata": {},
   "outputs": [],
   "source": [
    "#let's extract the SW inputs to compute NRLMSISE-00:\n",
    "sw_df=karman.util.find_sw_from_thermo(pd.to_datetime(dates),karman.density_models.df_sw)\n",
    "ap=sw_df['celestrack__ap_average__'].values\n",
    "f107=sw_df['space_environment_technologies__f107_obs__'].values\n",
    "f107A=sw_df['space_environment_technologies__f107_average__'].values"
   ]
  },
  {
   "cell_type": "code",
   "execution_count": 8,
   "metadata": {},
   "outputs": [],
   "source": [
    "from nrlmsise00 import msise_flat\n",
    "d=pd.to_datetime(dates)\n",
    "density_nrlmsise00=msise_flat(d.to_pydatetime(), np.array(altitudes)*1e-3, latitudes, longitudes, f107A, f107, ap)[:,5]*1e3\n"
   ]
  },
  {
   "cell_type": "code",
   "execution_count": 9,
   "metadata": {},
   "outputs": [],
   "source": [
    "# we setup the longitude x latitude grid, and compute the relative error (in %)\n",
    "lon_grid = np.rad2deg(lonlat_grid[:, 0].reshape((n_grid, n_grid)))\n",
    "lat_grid = np.rad2deg(lonlat_grid[:, 1].reshape((n_grid, n_grid)))\n",
    "#rel_err = ((density_nrlmsise00 - density_nn) / density_nn) * 100\n",
    "# we print to scree the mean absolute percentage error on the globe map:\n",
    "#print(\n",
    "#    f\"Average absolute relative percentage error on globe map: {abs(rel_err).mean()} %\"\n",
    "#)\n",
    "\n",
    "# we now create a figure with a globe projection on top:\n",
    "fig, ax = plt.subplots(\n",
    "    figsize=(18, 12),\n",
    "    nrows=1,\n",
    "    ncols=2,\n",
    "    subplot_kw={\"projection\": ccrs.Mollweide(central_longitude=0)},\n",
    ")\n",
    "# we flatten the axis and remove the last figure\n",
    "#ax = ax.ravel()\n",
    "ax[0].axis(\"off\")\n",
    "\n",
    "# we plot NRLMSISE-00 on the first figure:\n",
    "ax[0].pcolormesh(\n",
    "    lon_grid,\n",
    "    lat_grid,\n",
    "    density_nrlmsise00.reshape((n_grid, n_grid)),\n",
    "    transform=ccrs.PlateCarree(),\n",
    "    vmin=min(density_nrlmsise00),\n",
    "    vmax=max(density_nrlmsise00),\n",
    ")\n",
    "ax[0].set_global()\n",
    "ax[0].coastlines()\n",
    "# ax[0].gridlines()\n",
    "ax[0].set_title(\"NRLMSISE-00 Prediction\")\n",
    "\n",
    "# the NN prediction on the second:\n",
    "im2 = ax[1].pcolormesh(\n",
    "    lon_grid,\n",
    "    lat_grid,\n",
    "    density_nn.reshape((n_grid, n_grid)),\n",
    "    transform=ccrs.PlateCarree(),\n",
    "    vmin=min(density_nn),\n",
    "    vmax=max(density_nn),\n",
    ")\n",
    "ax[1].set_global()\n",
    "ax[1].coastlines()\n",
    "# ax[1].gridlines()\n",
    "ax[1].set_title(\"Karman Nowcasting Prediction\")\n",
    "plt.show()"
   ]
  }
 ],
 "metadata": {
  "kernelspec": {
   "display_name": "karman_hl_2024",
   "language": "python",
   "name": "python3"
  },
  "language_info": {
   "codemirror_mode": {
    "name": "ipython",
    "version": 3
   },
   "file_extension": ".py",
   "mimetype": "text/x-python",
   "name": "python",
   "nbconvert_exporter": "python",
   "pygments_lexer": "ipython3",
   "version": "3.12.0"
  }
 },
 "nbformat": 4,
 "nbformat_minor": 2
}
