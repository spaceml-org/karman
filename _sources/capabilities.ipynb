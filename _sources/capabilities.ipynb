{
 "cells": [
  {
   "cell_type": "markdown",
   "metadata": {},
   "source": [
    "# Capabilities\n",
    "\n",
    "Karman is an open-source package for data driven thermospheric density modeling with Machine Learning.\n",
    "\n",
    "It offers various functionalities to download and process input data from several sources, as well as machine learning models (also pre-trained) for thermospheric density nowcasting and forecasting."
   ]
  }
 ],
 "metadata": {
  "language_info": {
   "name": "python"
  }
 },
 "nbformat": 4,
 "nbformat_minor": 2
}
