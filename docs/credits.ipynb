{
 "cells": [
  {
   "cell_type": "markdown",
   "metadata": {},
   "source": [
    "## Credits\n",
    "\n",
    "<div style=\"display: flex; justify-content: space-evenly; align-items: center;\">\n",
    "    <img src=\"_static/fdl2021_badge.png\" alt=\"NASA FDL 2021\" style=\"width: 100px; height: auto;\"/>\n",
    "    <img src=\"_static/fdl2023_badge.png\" alt=\"NASA FDL 2023\" style=\"width: 100px; height: auto;\"/>\n",
    "    <img src=\"_static/fdl2024_badge.png\" alt=\"NASA FDL 2024\" style=\"width: 100px; height: auto;\"/>\n",
    "</div>\n",
    "\n",
    "Karman was developed during three [NASA FDLs](https://frontierdevelopmentlab.org/): FDL 2021, FDL 2023, and FDL 2024. We are very greatful to NASA for funding the projects.\n",
    "\n",
    "The project originated after the initial work of the [NASA-FDL 2021](https://frontierdevelopmentlab.org/fdl-2021) Solar Drag team, funded by the Heliophysics Division of NASA. Solar Drag team members were: \n",
    "\n",
    "*Researchers*: Stefano Bonasera, Edward Brown, Jorge A. Pérez-Hernández, Bernard Benson; \n",
    "*Faculty*: Giacomo Acciarini, Atılım Güneş Baydin, Chris Bridges; \n",
    "*Advisors*: Eric Sutton, Moriba K. Jah.\n",
    "\n",
    "It was then continued in the [NASA-FDL 2023](https://fdl.ai/fdl-x-2023) Thermospheric Drag team, funded by the Heliophysics Division of NASA, with the following members:\n",
    "*Researchers*: Shreshth Malik, Jame Walsh;\n",
    "*Faculty*: Giacomo Acciarini, Atılım Güneş Baydin;\n",
    "*Advisors*: Thomas Berger, Hyunju Connor\n",
    "\n",
    "And also in the [NASA-FDL 2024](https://fdl.ai/fdl2024) Thermospheric Density Continuous Learning team, funded by the Heliophysics Division of NASA, with the following members:\n",
    "*Researchers*: Jordi Vila Perez, Aishwarya Kumar, Will Fawcett, Sankalp Gilda;\n",
    "*Faculty*: Giacomo Acciarini, James Walsh.\n",
    "*Advisors*: Thomas Berger, Hyunju Connor\n",
    "\n",
    "Current contributors:\n",
    "* Giacomo Acciarini\n",
    "* James Walsh\n",
    "\n",
    "Previous Contributors:\n",
    "* Edward Brown\n",
    "* Stefano Bonasera\n",
    "* Shreshth Malik\n",
    "* Jordi Vila Perez\n",
    "* Aishwarya Kumar\n",
    "* William Fawcett\n",
    "* Atılım Güneş Baydin\n"
   ]
  }
 ],
 "metadata": {
  "language_info": {
   "name": "python"
  }
 },
 "nbformat": 4,
 "nbformat_minor": 2
}
